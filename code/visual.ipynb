{
 "cells": [
  {
   "cell_type": "code",
   "execution_count": 20,
   "metadata": {},
   "outputs": [],
   "source": [
    "import pandas as pd\n",
    "\n",
    "data_predict = pd.read_csv(\"result/predict.csv\")\n",
    "data_actual  = pd.read_csv(\"result/actual.csv\")\n",
    "# data_actual_new = data_actual[['time','close']]\n",
    "data_actual = data_actual.loc[:, ~data_actual.columns.str.contains('^Unnamed')]\n"
   ]
  },
  {
   "cell_type": "code",
   "execution_count": 21,
   "metadata": {},
   "outputs": [
    {
     "data": {
      "text/html": [
       "<div>\n",
       "<style scoped>\n",
       "    .dataframe tbody tr th:only-of-type {\n",
       "        vertical-align: middle;\n",
       "    }\n",
       "\n",
       "    .dataframe tbody tr th {\n",
       "        vertical-align: top;\n",
       "    }\n",
       "\n",
       "    .dataframe thead th {\n",
       "        text-align: right;\n",
       "    }\n",
       "</style>\n",
       "<table border=\"1\" class=\"dataframe\">\n",
       "  <thead>\n",
       "    <tr style=\"text-align: right;\">\n",
       "      <th></th>\n",
       "      <th>time</th>\n",
       "      <th>predict</th>\n",
       "    </tr>\n",
       "  </thead>\n",
       "  <tbody>\n",
       "    <tr>\n",
       "      <th>0</th>\n",
       "      <td>2022-06-30 21:55:00</td>\n",
       "      <td>1.048002</td>\n",
       "    </tr>\n",
       "    <tr>\n",
       "      <th>1</th>\n",
       "      <td>2022-06-30 22:00:00</td>\n",
       "      <td>1.048007</td>\n",
       "    </tr>\n",
       "    <tr>\n",
       "      <th>2</th>\n",
       "      <td>2022-06-30 22:05:00</td>\n",
       "      <td>1.047812</td>\n",
       "    </tr>\n",
       "    <tr>\n",
       "      <th>3</th>\n",
       "      <td>2022-06-30 22:10:00</td>\n",
       "      <td>1.047207</td>\n",
       "    </tr>\n",
       "    <tr>\n",
       "      <th>4</th>\n",
       "      <td>2022-06-30 22:15:00</td>\n",
       "      <td>1.047390</td>\n",
       "    </tr>\n",
       "    <tr>\n",
       "      <th>...</th>\n",
       "      <td>...</td>\n",
       "      <td>...</td>\n",
       "    </tr>\n",
       "    <tr>\n",
       "      <th>229</th>\n",
       "      <td>2022-07-01 17:05:00</td>\n",
       "      <td>1.037278</td>\n",
       "    </tr>\n",
       "    <tr>\n",
       "      <th>230</th>\n",
       "      <td>2022-07-01 17:10:00</td>\n",
       "      <td>1.036558</td>\n",
       "    </tr>\n",
       "    <tr>\n",
       "      <th>231</th>\n",
       "      <td>2022-07-01 17:15:00</td>\n",
       "      <td>1.038709</td>\n",
       "    </tr>\n",
       "    <tr>\n",
       "      <th>232</th>\n",
       "      <td>2022-07-01 17:20:00</td>\n",
       "      <td>1.037210</td>\n",
       "    </tr>\n",
       "    <tr>\n",
       "      <th>233</th>\n",
       "      <td>2022-07-01 17:25:00</td>\n",
       "      <td>1.037875</td>\n",
       "    </tr>\n",
       "  </tbody>\n",
       "</table>\n",
       "<p>234 rows × 2 columns</p>\n",
       "</div>"
      ],
      "text/plain": [
       "                    time   predict\n",
       "0    2022-06-30 21:55:00  1.048002\n",
       "1    2022-06-30 22:00:00  1.048007\n",
       "2    2022-06-30 22:05:00  1.047812\n",
       "3    2022-06-30 22:10:00  1.047207\n",
       "4    2022-06-30 22:15:00  1.047390\n",
       "..                   ...       ...\n",
       "229  2022-07-01 17:05:00  1.037278\n",
       "230  2022-07-01 17:10:00  1.036558\n",
       "231  2022-07-01 17:15:00  1.038709\n",
       "232  2022-07-01 17:20:00  1.037210\n",
       "233  2022-07-01 17:25:00  1.037875\n",
       "\n",
       "[234 rows x 2 columns]"
      ]
     },
     "execution_count": 21,
     "metadata": {},
     "output_type": "execute_result"
    }
   ],
   "source": [
    "data_predict"
   ]
  },
  {
   "cell_type": "code",
   "execution_count": 22,
   "metadata": {},
   "outputs": [
    {
     "data": {
      "text/html": [
       "<div>\n",
       "<style scoped>\n",
       "    .dataframe tbody tr th:only-of-type {\n",
       "        vertical-align: middle;\n",
       "    }\n",
       "\n",
       "    .dataframe tbody tr th {\n",
       "        vertical-align: top;\n",
       "    }\n",
       "\n",
       "    .dataframe thead th {\n",
       "        text-align: right;\n",
       "    }\n",
       "</style>\n",
       "<table border=\"1\" class=\"dataframe\">\n",
       "  <thead>\n",
       "    <tr style=\"text-align: right;\">\n",
       "      <th></th>\n",
       "      <th>time</th>\n",
       "      <th>close</th>\n",
       "    </tr>\n",
       "  </thead>\n",
       "  <tbody>\n",
       "    <tr>\n",
       "      <th>0</th>\n",
       "      <td>2022-06-28 10:10:00</td>\n",
       "      <td>1.05898</td>\n",
       "    </tr>\n",
       "    <tr>\n",
       "      <th>1</th>\n",
       "      <td>2022-06-28 10:15:00</td>\n",
       "      <td>1.05915</td>\n",
       "    </tr>\n",
       "    <tr>\n",
       "      <th>2</th>\n",
       "      <td>2022-06-28 10:20:00</td>\n",
       "      <td>1.05871</td>\n",
       "    </tr>\n",
       "    <tr>\n",
       "      <th>3</th>\n",
       "      <td>2022-06-28 10:25:00</td>\n",
       "      <td>1.05886</td>\n",
       "    </tr>\n",
       "    <tr>\n",
       "      <th>4</th>\n",
       "      <td>2022-06-28 10:30:00</td>\n",
       "      <td>1.05906</td>\n",
       "    </tr>\n",
       "    <tr>\n",
       "      <th>...</th>\n",
       "      <td>...</td>\n",
       "      <td>...</td>\n",
       "    </tr>\n",
       "    <tr>\n",
       "      <th>996</th>\n",
       "      <td>2022-07-01 21:25:00</td>\n",
       "      <td>1.04215</td>\n",
       "    </tr>\n",
       "    <tr>\n",
       "      <th>997</th>\n",
       "      <td>2022-07-01 21:30:00</td>\n",
       "      <td>1.04254</td>\n",
       "    </tr>\n",
       "    <tr>\n",
       "      <th>998</th>\n",
       "      <td>2022-07-01 21:35:00</td>\n",
       "      <td>1.04257</td>\n",
       "    </tr>\n",
       "    <tr>\n",
       "      <th>999</th>\n",
       "      <td>2022-07-01 21:40:00</td>\n",
       "      <td>1.04281</td>\n",
       "    </tr>\n",
       "    <tr>\n",
       "      <th>1000</th>\n",
       "      <td>2022-07-01 21:45:00</td>\n",
       "      <td>1.04288</td>\n",
       "    </tr>\n",
       "  </tbody>\n",
       "</table>\n",
       "<p>1001 rows × 2 columns</p>\n",
       "</div>"
      ],
      "text/plain": [
       "                     time    close\n",
       "0     2022-06-28 10:10:00  1.05898\n",
       "1     2022-06-28 10:15:00  1.05915\n",
       "2     2022-06-28 10:20:00  1.05871\n",
       "3     2022-06-28 10:25:00  1.05886\n",
       "4     2022-06-28 10:30:00  1.05906\n",
       "...                   ...      ...\n",
       "996   2022-07-01 21:25:00  1.04215\n",
       "997   2022-07-01 21:30:00  1.04254\n",
       "998   2022-07-01 21:35:00  1.04257\n",
       "999   2022-07-01 21:40:00  1.04281\n",
       "1000  2022-07-01 21:45:00  1.04288\n",
       "\n",
       "[1001 rows x 2 columns]"
      ]
     },
     "execution_count": 22,
     "metadata": {},
     "output_type": "execute_result"
    }
   ],
   "source": [
    "data_actual"
   ]
  },
  {
   "cell_type": "code",
   "execution_count": 23,
   "metadata": {},
   "outputs": [],
   "source": [
    "combine_data = pd.merge(data_actual,data_predict, on='time')\n",
    "combine_data['time'] = pd.to_datetime(combine_data['time'])"
   ]
  },
  {
   "cell_type": "code",
   "execution_count": 24,
   "metadata": {},
   "outputs": [
    {
     "data": {
      "text/html": [
       "<div>\n",
       "<style scoped>\n",
       "    .dataframe tbody tr th:only-of-type {\n",
       "        vertical-align: middle;\n",
       "    }\n",
       "\n",
       "    .dataframe tbody tr th {\n",
       "        vertical-align: top;\n",
       "    }\n",
       "\n",
       "    .dataframe thead th {\n",
       "        text-align: right;\n",
       "    }\n",
       "</style>\n",
       "<table border=\"1\" class=\"dataframe\">\n",
       "  <thead>\n",
       "    <tr style=\"text-align: right;\">\n",
       "      <th></th>\n",
       "      <th>time</th>\n",
       "      <th>close</th>\n",
       "      <th>predict</th>\n",
       "    </tr>\n",
       "  </thead>\n",
       "  <tbody>\n",
       "    <tr>\n",
       "      <th>0</th>\n",
       "      <td>2022-06-30 21:55:00</td>\n",
       "      <td>1.04805</td>\n",
       "      <td>1.048002</td>\n",
       "    </tr>\n",
       "    <tr>\n",
       "      <th>1</th>\n",
       "      <td>2022-06-30 22:00:00</td>\n",
       "      <td>1.04769</td>\n",
       "      <td>1.048007</td>\n",
       "    </tr>\n",
       "    <tr>\n",
       "      <th>2</th>\n",
       "      <td>2022-06-30 22:05:00</td>\n",
       "      <td>1.04753</td>\n",
       "      <td>1.047812</td>\n",
       "    </tr>\n",
       "    <tr>\n",
       "      <th>3</th>\n",
       "      <td>2022-06-30 22:10:00</td>\n",
       "      <td>1.04750</td>\n",
       "      <td>1.047207</td>\n",
       "    </tr>\n",
       "    <tr>\n",
       "      <th>4</th>\n",
       "      <td>2022-06-30 22:15:00</td>\n",
       "      <td>1.04681</td>\n",
       "      <td>1.047390</td>\n",
       "    </tr>\n",
       "    <tr>\n",
       "      <th>...</th>\n",
       "      <td>...</td>\n",
       "      <td>...</td>\n",
       "      <td>...</td>\n",
       "    </tr>\n",
       "    <tr>\n",
       "      <th>228</th>\n",
       "      <td>2022-07-01 17:05:00</td>\n",
       "      <td>1.03832</td>\n",
       "      <td>1.037278</td>\n",
       "    </tr>\n",
       "    <tr>\n",
       "      <th>229</th>\n",
       "      <td>2022-07-01 17:10:00</td>\n",
       "      <td>1.03772</td>\n",
       "      <td>1.036558</td>\n",
       "    </tr>\n",
       "    <tr>\n",
       "      <th>230</th>\n",
       "      <td>2022-07-01 17:15:00</td>\n",
       "      <td>1.03809</td>\n",
       "      <td>1.038709</td>\n",
       "    </tr>\n",
       "    <tr>\n",
       "      <th>231</th>\n",
       "      <td>2022-07-01 17:20:00</td>\n",
       "      <td>1.03792</td>\n",
       "      <td>1.037210</td>\n",
       "    </tr>\n",
       "    <tr>\n",
       "      <th>232</th>\n",
       "      <td>2022-07-01 17:25:00</td>\n",
       "      <td>1.03730</td>\n",
       "      <td>1.037875</td>\n",
       "    </tr>\n",
       "  </tbody>\n",
       "</table>\n",
       "<p>233 rows × 3 columns</p>\n",
       "</div>"
      ],
      "text/plain": [
       "                   time    close   predict\n",
       "0   2022-06-30 21:55:00  1.04805  1.048002\n",
       "1   2022-06-30 22:00:00  1.04769  1.048007\n",
       "2   2022-06-30 22:05:00  1.04753  1.047812\n",
       "3   2022-06-30 22:10:00  1.04750  1.047207\n",
       "4   2022-06-30 22:15:00  1.04681  1.047390\n",
       "..                  ...      ...       ...\n",
       "228 2022-07-01 17:05:00  1.03832  1.037278\n",
       "229 2022-07-01 17:10:00  1.03772  1.036558\n",
       "230 2022-07-01 17:15:00  1.03809  1.038709\n",
       "231 2022-07-01 17:20:00  1.03792  1.037210\n",
       "232 2022-07-01 17:25:00  1.03730  1.037875\n",
       "\n",
       "[233 rows x 3 columns]"
      ]
     },
     "execution_count": 24,
     "metadata": {},
     "output_type": "execute_result"
    }
   ],
   "source": [
    "combine_data"
   ]
  },
  {
   "cell_type": "code",
   "execution_count": 25,
   "metadata": {},
   "outputs": [],
   "source": [
    "import numpy as np\n",
    "from sklearn.metrics import mean_squared_error\n",
    "from math import sqrt\n",
    "\n",
    "def mape(actual, pred): \n",
    "    actual, pred = np.array(actual), np.array(pred)\n",
    "    return np.mean(np.abs((actual - pred) / actual)) * 100"
   ]
  },
  {
   "cell_type": "code",
   "execution_count": 26,
   "metadata": {},
   "outputs": [
    {
     "name": "stdout",
     "output_type": "stream",
     "text": [
      "0.0005037537083432031\n",
      "0.035090267621147114\n"
     ]
    }
   ],
   "source": [
    "rmse = sqrt(mean_squared_error(combine_data['close'],combine_data['predict']))\n",
    "mape = mape(combine_data['close'],combine_data['predict'])\n",
    "\n",
    "print(rmse)\n",
    "print(mape)"
   ]
  },
  {
   "cell_type": "code",
   "execution_count": 27,
   "metadata": {},
   "outputs": [
    {
     "data": {
      "text/plain": [
       "<matplotlib.legend.Legend at 0x20f1cd696a0>"
      ]
     },
     "execution_count": 27,
     "metadata": {},
     "output_type": "execute_result"
    },
    {
     "data": {
      "image/png": "[encoded data removed]",
      "text/plain": [
       "<Figure size 1000x500 with 1 Axes>"
      ]
     },
     "metadata": {},
     "output_type": "display_data"
    }
   ],
   "source": [
    "import matplotlib.pyplot as plt\n",
    "\n",
    "\n",
    "plt.figure(figsize=(10, 5))\n",
    "# plt.figure()\n",
    "plt.title(\"EURUSD Timeframe 5m \\nRMSE : %.3f\\nMAPE : %.3f\" %(rmse ,mape))\n",
    "plt.plot(combine_data['time'],combine_data['close'],label = 'actual')\n",
    "plt.plot(combine_data['time'],combine_data['predict'],label = 'predict')\n",
    "plt.legend()"
   ]
  },
  {
   "cell_type": "code",
   "execution_count": null,
   "metadata": {},
   "outputs": [],
   "source": []
  }
 ],
 "metadata": {
  "kernelspec": {
   "display_name": "Python 3.9.4 ('env': venv)",
   "language": "python",
   "name": "python3"
  },
  "language_info": {
   "codemirror_mode": {
    "name": "ipython",
    "version": 3
   },
   "file_extension": ".py",
   "mimetype": "text/x-python",
   "name": "python",
   "nbconvert_exporter": "python",
   "pygments_lexer": "ipython3",
   "version": "3.9.4"
  },
  "orig_nbformat": 4,
  "vscode": {
   "interpreter": {
    "hash": "255712241ccb7c1a11d8e7d1f90088ec8a125e1ce7310d336c26f0a97f82251d"
   }
  }
 },
 "nbformat": 4,
 "nbformat_minor": 2
}
